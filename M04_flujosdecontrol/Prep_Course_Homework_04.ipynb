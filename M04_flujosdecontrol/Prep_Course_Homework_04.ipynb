{
 "cells": [
  {
   "attachments": {},
   "cell_type": "markdown",
   "metadata": {},
   "source": [
    "## Flujos de Control"
   ]
  },
  {
   "attachments": {},
   "cell_type": "markdown",
   "metadata": {},
   "source": [
    "1) Crear una variable que contenga un elemento del conjunto de números enteros y luego imprimir por pantalla si es mayor o menor a cero"
   ]
  },
  {
   "cell_type": "code",
   "execution_count": 4,
   "metadata": {},
   "outputs": [
    {
     "name": "stdout",
     "output_type": "stream",
     "text": [
      "x es mayor a cero\n"
     ]
    }
   ],
   "source": [
    "x=8\n",
    "if x>0 :\n",
    "    print(\"x es mayor a cero\")\n",
    "\n",
    "elif x<0 :\n",
    "    print(\"x es menor a cero\")\n",
    "\n",
    "else:\n",
    "    print(\"x es igual a cero\")\n"
   ]
  },
  {
   "attachments": {},
   "cell_type": "markdown",
   "metadata": {},
   "source": [
    "2) Crear dos variables y un condicional que informe si son del mismo tipo de dato"
   ]
  },
  {
   "cell_type": "code",
   "execution_count": 8,
   "metadata": {},
   "outputs": [
    {
     "name": "stdout",
     "output_type": "stream",
     "text": [
      "no son iguales\n"
     ]
    }
   ],
   "source": [
    "x1 = 45\n",
    "x2 = \"no\"\n",
    "if (type(x1) == type(x2)):\n",
    "    print(\"son iguales\")\n",
    "else:\n",
    "    print(\"no son iguales\")"
   ]
  },
  {
   "attachments": {},
   "cell_type": "markdown",
   "metadata": {},
   "source": [
    "3) Para los valores enteros del 1 al 20, imprimir por pantalla si es par o impar"
   ]
  },
  {
   "cell_type": "code",
   "execution_count": 10,
   "metadata": {},
   "outputs": [
    {
     "name": "stdout",
     "output_type": "stream",
     "text": [
      "1  es impar\n",
      "2  es par\n",
      "3  es impar\n",
      "4  es par\n",
      "5  es impar\n",
      "6  es par\n",
      "7  es impar\n",
      "8  es par\n",
      "9  es impar\n",
      "10  es par\n",
      "11  es impar\n",
      "12  es par\n",
      "13  es impar\n",
      "14  es par\n",
      "15  es impar\n",
      "16  es par\n",
      "17  es impar\n",
      "18  es par\n",
      "19  es impar\n",
      "20  es par\n"
     ]
    }
   ],
   "source": [
    "for num in range (1,21):\n",
    "    if num % 2 == 0:\n",
    "        print(num, \" es par\")\n",
    "    else:\n",
    "        print(num, \" es impar\")"
   ]
  },
  {
   "attachments": {},
   "cell_type": "markdown",
   "metadata": {},
   "source": [
    "4) En un ciclo for mostrar para los valores entre 0 y 5 el resultado de elevarlo a la potencia igual a 3"
   ]
  },
  {
   "cell_type": "code",
   "execution_count": 14,
   "metadata": {},
   "outputs": [
    {
     "name": "stdout",
     "output_type": "stream",
     "text": [
      "0 0\n",
      "1 1\n",
      "2 8\n",
      "3 27\n",
      "4 64\n",
      "5 125\n"
     ]
    }
   ],
   "source": [
    "for num1 in range (0,6):\n",
    "    x = num1**3\n",
    "    print(num1,x)"
   ]
  },
  {
   "attachments": {},
   "cell_type": "markdown",
   "metadata": {},
   "source": [
    "5) Crear una variable que contenga un número entero y realizar un ciclo for la misma cantidad de ciclos"
   ]
  },
  {
   "cell_type": "code",
   "execution_count": 16,
   "metadata": {},
   "outputs": [
    {
     "name": "stdout",
     "output_type": "stream",
     "text": [
      "1\n",
      "2\n",
      "3\n",
      "4\n",
      "5\n",
      "6\n"
     ]
    }
   ],
   "source": [
    "num2 = 6\n",
    "for a in range(0,num2):\n",
    "    b = a+1\n",
    "    print(b)"
   ]
  },
  {
   "attachments": {},
   "cell_type": "markdown",
   "metadata": {},
   "source": [
    "6) Utilizar un ciclo while para realizar el factorial de un número guardado en una variable, sólo si la variable contiene un número entero mayor a 0"
   ]
  },
  {
   "cell_type": "code",
   "execution_count": 22,
   "metadata": {},
   "outputs": [
    {
     "name": "stdout",
     "output_type": "stream",
     "text": [
      "el factorial es  56\n",
      "el factorial es  336\n",
      "el factorial es  1680\n",
      "el factorial es  6720\n",
      "el factorial es  20160\n",
      "el factorial es  40320\n"
     ]
    }
   ],
   "source": [
    "n = 8\n",
    "if type(n) == int:\n",
    "    if n>0:\n",
    "        factorial = n\n",
    "        while (n>2):\n",
    "            n = n-1\n",
    "            factorial= factorial * n\n",
    "            print(\"el factorial es \",factorial)\n",
    "    else: \n",
    "        print(\"no es mayor a cero\")    \n",
    "else: \n",
    "    print(\"no es un numero entero\")"
   ]
  },
  {
   "attachments": {},
   "cell_type": "markdown",
   "metadata": {},
   "source": [
    "7) Crear un ciclo for dentro de un ciclo while"
   ]
  },
  {
   "cell_type": "code",
   "execution_count": 1,
   "metadata": {},
   "outputs": [
    {
     "name": "stdout",
     "output_type": "stream",
     "text": [
      "Ciclo while nro 1\n",
      "Ciclo for nro 1\n",
      "Ciclo while nro 2\n",
      "Ciclo for nro 1\n",
      "Ciclo for nro 2\n",
      "Ciclo while nro 3\n",
      "Ciclo for nro 1\n",
      "Ciclo for nro 2\n",
      "Ciclo for nro 3\n",
      "Ciclo while nro 4\n",
      "Ciclo for nro 1\n",
      "Ciclo for nro 2\n",
      "Ciclo for nro 3\n",
      "Ciclo for nro 4\n"
     ]
    }
   ],
   "source": [
    "n = 1\n",
    "while n < 5:\n",
    "    print('Ciclo while nro ' + str(n))  # Imprime el número del ciclo while\n",
    "    for i in range(1, n+1): # como la función range(a, b) genera una secuencia de números desde a hasta b-1. Para que el bucle for incluya el número n, usamos range(1, n+1) en lugar de range(1, n).\n",
    "        print('Ciclo for nro ' + str(i))  # Imprime el número del ciclo for\n",
    "    n += 1"
   ]
  },
  {
   "attachments": {},
   "cell_type": "markdown",
   "metadata": {},
   "source": [
    "8) Crear un ciclo while dentro de un ciclo for"
   ]
  },
  {
   "cell_type": "code",
   "execution_count": 11,
   "metadata": {},
   "outputs": [
    {
     "name": "stdout",
     "output_type": "stream",
     "text": [
      "comenzando ciclo while para numero 3\n",
      "3\n",
      "2\n",
      "1\n",
      "TERMINADO CICLO WHILE\n",
      "comenzando ciclo while para numero 5\n",
      "5\n",
      "4\n",
      "3\n",
      "2\n",
      "1\n",
      "TERMINADO CICLO WHILE\n",
      "comenzando ciclo while para numero 2\n",
      "2\n",
      "1\n",
      "TERMINADO CICLO WHILE\n",
      "CICLOS COMPLETADO\n"
     ]
    }
   ],
   "source": [
    "num = (3, 5, 2)\n",
    "for numero in num:\n",
    "    print(\"comenzando ciclo while para numero \"+str(numero))\n",
    "    var= numero\n",
    "    while var > 0:\n",
    "        print(var)\n",
    "        var -= 1\n",
    "    print(\"TERMINADO CICLO WHILE\")   \n",
    "print (\"CICLOS COMPLETADO\") "
   ]
  },
  {
   "attachments": {},
   "cell_type": "markdown",
   "metadata": {},
   "source": [
    "9) Imprimir los números primos existentes entre 0 y 30"
   ]
  },
  {
   "cell_type": "code",
   "execution_count": 18,
   "metadata": {},
   "outputs": [
    {
     "name": "stdout",
     "output_type": "stream",
     "text": [
      "2\n",
      "3\n",
      "5\n",
      "7\n",
      "11\n",
      "13\n",
      "17\n",
      "19\n",
      "23\n",
      "29\n"
     ]
    }
   ],
   "source": [
    "def es_primo(n):\n",
    "    if n <= 1:\n",
    "        return False\n",
    "    for i in range (2, int(n**0.5)+1):\n",
    "        if n % i == 0:\n",
    "            return False\n",
    "    return True\n",
    "for x in range(0, 31):\n",
    "    if es_primo(x):\n",
    "        print(x)"
   ]
  },
  {
   "attachments": {},
   "cell_type": "markdown",
   "metadata": {},
   "source": [
    "10) ¿Se puede mejorar el proceso del punto 9? Utilizar las sentencias break y/ó continue para tal fin"
   ]
  },
  {
   "cell_type": "code",
   "execution_count": 10,
   "metadata": {},
   "outputs": [
    {
     "name": "stdout",
     "output_type": "stream",
     "text": [
      "comenzando ciclo while para 1\n",
      "1\n",
      "finalizasdo el ciclo while\n",
      "comenzando ciclo while para 2\n",
      "se encontro el valor 2, finalizado el ciclo\n",
      "finalizasdo el ciclo while\n",
      "comenzando ciclo while para 3\n",
      "3\n",
      "se encontro el valor 2, finalizado el ciclo\n",
      "finalizasdo el ciclo while\n",
      "ciclo completo\n"
     ]
    }
   ],
   "source": [
    "num = [1, 2 ,3]\n",
    "for numero in num:\n",
    "    print(\"comenzando ciclo while para \" + str(numero))\n",
    "    temp=numero\n",
    "    while temp > 0:\n",
    "        if temp == 2:\n",
    "            print(\"se encontro el valor 2, finalizado el ciclo\")\n",
    "            break\n",
    "        print(temp)\n",
    "        temp -=1\n",
    "    print(\"finalizasdo el ciclo while\")\n",
    "print(\"ciclo completo\")    \n"
   ]
  },
  {
   "attachments": {},
   "cell_type": "markdown",
   "metadata": {},
   "source": [
    "11) En los puntos 9 y 10, se diseño un código que encuentra números primos y además se lo optimizó. ¿Es posible saber en qué medida se optimizó?"
   ]
  },
  {
   "cell_type": "code",
   "execution_count": 14,
   "metadata": {},
   "outputs": [
    {
     "name": "stdout",
     "output_type": "stream",
     "text": [
      "comenzando ciclo while para 5\n",
      "4\n",
      "3\n",
      "se encontro el 2, continuo con la secuencia\n",
      "1\n",
      "0\n",
      "termino el ciclo while 5\n",
      "comenzando ciclo while para 4\n",
      "3\n",
      "se encontro el 2, continuo con la secuencia\n",
      "1\n",
      "0\n",
      "termino el ciclo while 4\n",
      "comenzando ciclo while para 3\n",
      "se encontro el 2, continuo con la secuencia\n",
      "1\n",
      "0\n",
      "termino el ciclo while 3\n",
      "comenzando ciclo while para 2\n",
      "1\n",
      "0\n",
      "termino el ciclo while 2\n",
      "comenzando ciclo while para 1\n",
      "0\n",
      "termino el ciclo while 1\n",
      "ciclo completo\n"
     ]
    }
   ],
   "source": [
    "num = [5, 4, 3, 2, 1]\n",
    "for numero in num:\n",
    "    print(\"comenzando ciclo while para \"+ str(numero))\n",
    "    temp=numero\n",
    "    while temp > 0:\n",
    "        temp -= 1\n",
    "        if temp == 2:\n",
    "            print(\"se encontro el 2, continuo con la secuencia\")\n",
    "            continue\n",
    "        print(temp)\n",
    "    print(\"termino el ciclo while \" + str(numero))  \n",
    "print(\"ciclo completo\")  \n"
   ]
  },
  {
   "cell_type": "code",
   "execution_count": null,
   "metadata": {},
   "outputs": [],
   "source": []
  },
  {
   "attachments": {},
   "cell_type": "markdown",
   "metadata": {},
   "source": [
    "12) Aplicando continue, armar un ciclo while que solo imprima los valores divisibles por 12, dentro del rango de números de 100 a 300"
   ]
  },
  {
   "cell_type": "code",
   "execution_count": 28,
   "metadata": {},
   "outputs": [
    {
     "name": "stdout",
     "output_type": "stream",
     "text": [
      "[108, 120, 132, 144, 156, 168, 180, 192, 204, 216, 228, 240, 252, 264, 276, 288, 300]\n"
     ]
    }
   ],
   "source": [
    "def div_12(inicio, fin):\n",
    "    divisibles = []\n",
    "    for numero in range(inicio, fin + 1):\n",
    "        if numero % 12 == 0:\n",
    "            divisibles.append(numero)\n",
    "    return divisibles\n",
    "numeros_divisibles = div_12(100 , 300)\n",
    "print(numeros_divisibles)"
   ]
  },
  {
   "attachments": {},
   "cell_type": "markdown",
   "metadata": {},
   "source": [
    "13) Utilizar la función **input()** que permite hacer ingresos por teclado, para encontrar números primos y dar la opción al usario de buscar el siguiente"
   ]
  },
  {
   "cell_type": "code",
   "execution_count": 29,
   "metadata": {},
   "outputs": [],
   "source": [
    "def encontrar_siguiente_primo(desde):\n",
    "    siguiente = desde + 1\n",
    "    while True:\n",
    "        if es_primo(siguiente):\n",
    "            return siguiente\n",
    "        siguiente += 1\n",
    "\n",
    "def buscar_primos():\n",
    "    while True:\n",
    "        entrada = input(\"Ingrese un número\")\n",
    "\n",
    "        if entrada.lower() == \"salir\":\n",
    "            print(\"saliendo del programa\")\n",
    "            break\n",
    "\n",
    "        try:\n",
    "            numero = int(entrada)\n",
    "            if numero < 0:\n",
    "                print(\"Ingreso un numero entero\")\n",
    "                continue\n",
    "            if es_primo(numero):\n",
    "                print(str(numero) + \"es primo\")\n",
    "            else:\n",
    "                print(str(numero) + \"no es primo\")\n",
    "            buscar_siguiente = input(\"desea buscar el siguiente numero primo\")\n",
    "            if buscar_siguiente.lower() == 's':\n",
    "                siguiente_primo = encontrar_siguiente_primo(numero)\n",
    "                print(\"el siguiente numero primo es\" + str(siguiente_primo))\n",
    "        except ValueError:\n",
    "            print(\"entrada no valida\")"
   ]
  },
  {
   "cell_type": "code",
   "execution_count": null,
   "metadata": {},
   "outputs": [
    {
     "ename": "TypeError",
     "evalue": "buscar_primos() takes 0 positional arguments but 1 was given",
     "output_type": "error",
     "traceback": [
      "\u001b[1;31m---------------------------------------------------------------------------\u001b[0m",
      "\u001b[1;31mTypeError\u001b[0m                                 Traceback (most recent call last)",
      "Cell \u001b[1;32mIn[32], line 1\u001b[0m\n\u001b[1;32m----> 1\u001b[0m \u001b[43mbuscar_primos\u001b[49m\u001b[43m(\u001b[49m\u001b[38;5;241;43m56\u001b[39;49m\u001b[43m)\u001b[49m\n",
      "\u001b[1;31mTypeError\u001b[0m: buscar_primos() takes 0 positional arguments but 1 was given"
     ]
    }
   ],
   "source": [
    "buscar_primos(56)"
   ]
  },
  {
   "attachments": {},
   "cell_type": "markdown",
   "metadata": {},
   "source": [
    "14) Crear un ciclo while que encuentre dentro del rango de 100 a 300 el primer número divisible por 3 y además múltiplo de 6"
   ]
  },
  {
   "cell_type": "code",
   "execution_count": null,
   "metadata": {},
   "outputs": [],
   "source": []
  }
 ],
 "metadata": {
  "interpreter": {
   "hash": "c85384e4cb51c8b72350f3a8712cc8351fdc3955e32a27f9b60c6242ab125f01"
  },
  "kernelspec": {
   "display_name": "Python 3 (ipykernel)",
   "language": "python",
   "name": "python3"
  },
  "language_info": {
   "codemirror_mode": {
    "name": "ipython",
    "version": 3
   },
   "file_extension": ".py",
   "mimetype": "text/x-python",
   "name": "python",
   "nbconvert_exporter": "python",
   "pygments_lexer": "ipython3",
   "version": "3.11.9"
  }
 },
 "nbformat": 4,
 "nbformat_minor": 4
}
